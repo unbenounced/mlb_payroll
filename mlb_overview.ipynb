{
 "cells": [
  {
   "cell_type": "code",
   "execution_count": 1,
   "id": "fcd313af-02ff-4757-bf64-52dd9715001f",
   "metadata": {},
   "outputs": [],
   "source": [
    "import pandas as pd\n",
    "import numpy as np\n",
    "import matplotlib.pyplot as plt\n",
    "\n",
    "plt.style.use('fivethirtyeight')\n",
    "plt.rcParams[\"font.family\"] = \"monospace\"\n",
    "pd.set_option('display.max_columns', 500)"
   ]
  },
  {
   "cell_type": "code",
   "execution_count": 2,
   "id": "730b3cf1-00b7-4865-aaba-a060af5ecfdb",
   "metadata": {},
   "outputs": [],
   "source": [
    "# Data loaded\n",
    "pitchers = pd.read_csv('all_teams_pitchers.csv')\n",
    "batters = pd.read_csv('all_teams_hitters.csv')"
   ]
  },
  {
   "cell_type": "code",
   "execution_count": 3,
   "id": "bb993920-b4fe-4c42-a618-78b4176301a0",
   "metadata": {},
   "outputs": [],
   "source": [
    "# Grabbed the columns needed to calculate Cost per War.\n",
    "p = pitchers[['Player', 'Team', 'Pos', 'Payroll Salary Adjusted', 'WAR']]\n",
    "b = batters[['Player', 'Team', 'Pos', 'Payroll Salary Adjusted', 'WAR']]\n",
    "df = pd.concat([p, b]).reset_index(drop=True)"
   ]
  },
  {
   "cell_type": "code",
   "execution_count": 4,
   "id": "d9788c20-4777-4172-99d5-bc0ed7f2841b",
   "metadata": {},
   "outputs": [],
   "source": [
    "# Did a test to make sure the calcuations were correct.\n",
    "b1 = batters.groupby('Team').agg({'Payroll Salary Adjusted': 'sum', 'WAR': 'sum'})\n",
    "b1[\"Cost per War\"] = b1[\"Payroll Salary Adjusted\"] / b1[\"WAR\"]\n",
    "war_team = df['Payroll Salary Adjusted'].sum() / df['WAR'].sum()"
   ]
  },
  {
   "cell_type": "code",
   "execution_count": null,
   "id": "a8d22125-de4f-4463-b53a-2a28a54cadf3",
   "metadata": {},
   "outputs": [],
   "source": []
  },
  {
   "cell_type": "code",
   "execution_count": 5,
   "id": "463e49b2-8443-4b79-b7bf-0a9271df06cf",
   "metadata": {},
   "outputs": [],
   "source": [
    "# Aggregated to get cost per WAR for each team.\n",
    "team_agg = df.groupby('Team').agg({'Payroll Salary Adjusted':'sum', 'WAR':'sum'})\n",
    "# Cost per WAR calculation and created new column for it.\n",
    "team_agg['Cost per War'] = team_agg['Payroll Salary Adjusted'] / team_agg['WAR']"
   ]
  },
  {
   "cell_type": "code",
   "execution_count": 51,
   "id": "d8a0bb4d-8575-4594-b2e2-c87d3751465d",
   "metadata": {},
   "outputs": [
    {
     "data": {
      "text/html": [
       "<div>\n",
       "<style scoped>\n",
       "    .dataframe tbody tr th:only-of-type {\n",
       "        vertical-align: middle;\n",
       "    }\n",
       "\n",
       "    .dataframe tbody tr th {\n",
       "        vertical-align: top;\n",
       "    }\n",
       "\n",
       "    .dataframe thead th {\n",
       "        text-align: right;\n",
       "    }\n",
       "</style>\n",
       "<table border=\"1\" class=\"dataframe\">\n",
       "  <thead>\n",
       "    <tr style=\"text-align: right;\">\n",
       "      <th></th>\n",
       "      <th>Payroll Salary Adjusted</th>\n",
       "      <th>WAR</th>\n",
       "      <th>Cost per War</th>\n",
       "    </tr>\n",
       "    <tr>\n",
       "      <th>Team</th>\n",
       "      <th></th>\n",
       "      <th></th>\n",
       "      <th></th>\n",
       "    </tr>\n",
       "  </thead>\n",
       "  <tbody>\n",
       "    <tr>\n",
       "      <th>CHW</th>\n",
       "      <td>74306691</td>\n",
       "      <td>10.8</td>\n",
       "      <td>6.880249e+06</td>\n",
       "    </tr>\n",
       "    <tr>\n",
       "      <th>TOR</th>\n",
       "      <td>112230693</td>\n",
       "      <td>16.4</td>\n",
       "      <td>6.843335e+06</td>\n",
       "    </tr>\n",
       "    <tr>\n",
       "      <th>TEX</th>\n",
       "      <td>145959070</td>\n",
       "      <td>24.6</td>\n",
       "      <td>5.933296e+06</td>\n",
       "    </tr>\n",
       "    <tr>\n",
       "      <th>NYY</th>\n",
       "      <td>259328692</td>\n",
       "      <td>44.8</td>\n",
       "      <td>5.788587e+06</td>\n",
       "    </tr>\n",
       "    <tr>\n",
       "      <th>LAA</th>\n",
       "      <td>72929861</td>\n",
       "      <td>14.1</td>\n",
       "      <td>5.172331e+06</td>\n",
       "    </tr>\n",
       "  </tbody>\n",
       "</table>\n",
       "</div>"
      ],
      "text/plain": [
       "      Payroll Salary Adjusted   WAR  Cost per War\n",
       "Team                                             \n",
       "CHW                  74306691  10.8  6.880249e+06\n",
       "TOR                 112230693  16.4  6.843335e+06\n",
       "TEX                 145959070  24.6  5.933296e+06\n",
       "NYY                 259328692  44.8  5.788587e+06\n",
       "LAA                  72929861  14.1  5.172331e+06"
      ]
     },
     "execution_count": 51,
     "metadata": {},
     "output_type": "execute_result"
    }
   ],
   "source": [
    "team_agg_sorted = team_agg.sort_values(by=\"Cost per War\", ascending=False)\n",
    "team_agg_sorted.head()"
   ]
  },
  {
   "cell_type": "code",
   "execution_count": 53,
   "id": "b4593bbd-87e6-4305-8f80-680eb63270bd",
   "metadata": {},
   "outputs": [
    {
     "data": {
      "image/png": "[encoded data removed]",
      "text/plain": [
       "<Figure size 640x480 with 1 Axes>"
      ]
     },
     "metadata": {},
     "output_type": "display_data"
    }
   ],
   "source": [
    "fig, ax = plt.subplots()\n",
    "\n",
    "ax.bar(team_agg_sorted.index,team_agg_sorted['Cost per War'] / 1000000)\n",
    "\n",
    "ax.set_title('Cost per WAR', fontsize=15, fontweight='bold', color='#4d4d4d', y=1.01)\n",
    "\n",
    "plt.xticks(rotation=45, fontsize=9, color='#4d4d4d', fontweight='bold')\n",
    "ax.tick_params(axis='x', length=9, color='#bdbdbd', pad=0) \n",
    "\n",
    "plt.yticks(fontsize=9, color='#4d4d4d', fontweight='semibold')\n",
    "\n",
    "ax.spines['bottom'].set_color('#4d4d4d')\n",
    "ax.spines['bottom'].set_linewidth(1)\n",
    "\n",
    "plt.show()"
   ]
  },
  {
   "cell_type": "code",
   "execution_count": null,
   "id": "0c087ac3-d875-42fa-9489-945232ec9ed4",
   "metadata": {},
   "outputs": [],
   "source": []
  }
 ],
 "metadata": {
  "kernelspec": {
   "display_name": "Python 3 (ipykernel)",
   "language": "python",
   "name": "python3"
  },
  "language_info": {
   "codemirror_mode": {
    "name": "ipython",
    "version": 3
   },
   "file_extension": ".py",
   "mimetype": "text/x-python",
   "name": "python",
   "nbconvert_exporter": "python",
   "pygments_lexer": "ipython3",
   "version": "3.12.7"
  }
 },
 "nbformat": 4,
 "nbformat_minor": 5
}
