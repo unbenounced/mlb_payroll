{
 "cells": [
  {
   "cell_type": "code",
   "execution_count": 1,
   "id": "fcd313af-02ff-4757-bf64-52dd9715001f",
   "metadata": {},
   "outputs": [],
   "source": [
    "import pandas as pd\n",
    "import numpy as np\n",
    "import matplotlib.pyplot as plt\n",
    "\n",
    "plt.style.use('fivethirtyeight')\n",
    "pd.set_option('display.max_columns', 500)"
   ]
  },
  {
   "cell_type": "code",
   "execution_count": 2,
   "id": "730b3cf1-00b7-4865-aaba-a060af5ecfdb",
   "metadata": {},
   "outputs": [],
   "source": [
    "pitchers = pd.read_csv('all_teams_pitchers.csv')\n",
    "batters = pd.read_csv('all_teams_hitters.csv')"
   ]
  },
  {
   "cell_type": "code",
   "execution_count": null,
   "id": "ac2e2dfd-650c-48fe-8de9-db1a49ce76bf",
   "metadata": {},
   "outputs": [],
   "source": []
  }
 ],
 "metadata": {
  "kernelspec": {
   "display_name": "Python 3 (ipykernel)",
   "language": "python",
   "name": "python3"
  },
  "language_info": {
   "codemirror_mode": {
    "name": "ipython",
    "version": 3
   },
   "file_extension": ".py",
   "mimetype": "text/x-python",
   "name": "python",
   "nbconvert_exporter": "python",
   "pygments_lexer": "ipython3",
   "version": "3.12.7"
  }
 },
 "nbformat": 4,
 "nbformat_minor": 5
}
